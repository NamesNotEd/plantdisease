{
 "cells": [
  {
   "cell_type": "code",
   "execution_count": 15,
   "metadata": {},
   "outputs": [],
   "source": [
    "import os\n",
    "import shutil\n",
    "import pathlib"
   ]
  },
  {
   "cell_type": "code",
   "execution_count": 16,
   "metadata": {},
   "outputs": [],
   "source": [
    "base_dir = 'input'\n",
    "train_dir = os.path.join(base_dir, 'train')\n",
    "validation_dir = os.path.join(base_dir, 'validation')\n",
    "test_dir = os.path.join(base_dir, 'test')"
   ]
  },
  {
   "cell_type": "code",
   "execution_count": 17,
   "metadata": {},
   "outputs": [],
   "source": [
    "train_healthy_dir = os.path.join(train_dir, 'healthy')\n",
    "train_sick_dir = os.path.join(train_dir, 'sick')\n",
    "train_not_weed_dir = os.path.join(train_dir, 'not_weed')"
   ]
  },
  {
   "cell_type": "code",
   "execution_count": 18,
   "metadata": {},
   "outputs": [],
   "source": [
    "validation_healthy_dir = os.path.join(validation_dir, 'healthy')\n",
    "validation_sick_dir = os.path.join(validation_dir, 'sick')\n",
    "validation_not_weed_dir = os.path.join(validation_dir, 'not_weed')"
   ]
  },
  {
   "cell_type": "code",
   "execution_count": 19,
   "metadata": {},
   "outputs": [],
   "source": [
    "test_healthy_dir = os.path.join(test_dir, 'healthy')\n",
    "test_sick_dir = os.path.join(test_dir, 'sick')\n",
    "test_not_weed_dir = os.path.join(test_dir, 'not_weed')"
   ]
  },
  {
   "cell_type": "code",
   "execution_count": 20,
   "metadata": {},
   "outputs": [],
   "source": [
    "train_healthy_paths = [os.path.join(train_healthy_dir, p) for p in os.listdir(train_healthy_dir)]"
   ]
  },
  {
   "cell_type": "code",
   "execution_count": 21,
   "metadata": {},
   "outputs": [
    {
     "data": {
      "text/plain": [
       "1120"
      ]
     },
     "execution_count": 21,
     "metadata": {},
     "output_type": "execute_result"
    }
   ],
   "source": [
    "len(train_healthy_paths)"
   ]
  },
  {
   "cell_type": "code",
   "execution_count": 22,
   "metadata": {},
   "outputs": [
    {
     "name": "stdout",
     "output_type": "stream",
     "text": [
      "0\n",
      "1\n",
      "2\n",
      "3\n",
      "4\n"
     ]
    }
   ],
   "source": [
    "for i in range(5):\n",
    "    print(i)"
   ]
  },
  {
   "cell_type": "code",
   "execution_count": 23,
   "metadata": {},
   "outputs": [
    {
     "data": {
      "text/plain": [
       "['input/train/healthy/141. 99.jpg',\n",
       " 'input/train/healthy/3. how-to-train-your-cannabis-plant-1024x641.jpg',\n",
       " 'input/train/healthy/166. s3.amazonaws.comleafly-s3contenthydroponic-gardening-systems-for-growing-cannabiskpbmqny1sxadexoqgpgd_hydroponics-cannabis-leaf-6eb8e4e2859bf91b6d222ddc42b338716fa05988.jpg',\n",
       " 'input/train/healthy/bbm-11-28-2016-resized.jpg',\n",
       " 'input/train/healthy/190. hermaphrodite-cannabis-plant.jpg']"
      ]
     },
     "execution_count": 23,
     "metadata": {},
     "output_type": "execute_result"
    }
   ],
   "source": [
    "train_healthy_paths[:5]"
   ]
  },
  {
   "cell_type": "code",
   "execution_count": 24,
   "metadata": {},
   "outputs": [
    {
     "data": {
      "text/plain": [
       "'input/validation/healthy'"
      ]
     },
     "execution_count": 24,
     "metadata": {},
     "output_type": "execute_result"
    }
   ],
   "source": [
    "validation_healthy_dir"
   ]
  },
  {
   "cell_type": "code",
   "execution_count": 25,
   "metadata": {},
   "outputs": [],
   "source": [
    "suffixes = os.listdir(train_healthy_dir)\n",
    "for i in range(200):\n",
    "    shutil.move(\n",
    "        os.path.join(train_healthy_dir, suffixes[i]),\n",
    "        os.path.join(validation_healthy_dir, suffixes[i]))"
   ]
  },
  {
   "cell_type": "code",
   "execution_count": 26,
   "metadata": {},
   "outputs": [],
   "source": [
    "# executed after last block\n",
    "suffixes = os.listdir(train_healthy_dir)\n",
    "for i in range(200):\n",
    "    shutil.move(\n",
    "        os.path.join(train_healthy_dir, suffixes[i]),\n",
    "        os.path.join(test_healthy_dir, suffixes[i]))"
   ]
  },
  {
   "cell_type": "code",
   "execution_count": 29,
   "metadata": {},
   "outputs": [],
   "source": [
    "suffixes = os.listdir(train_sick_dir)\n",
    "for i in range(200):\n",
    "    shutil.move(\n",
    "        os.path.join(train_sick_dir, suffixes[i]),\n",
    "        os.path.join(validation_sick_dir, suffixes[i]))"
   ]
  },
  {
   "cell_type": "code",
   "execution_count": 30,
   "metadata": {},
   "outputs": [],
   "source": [
    "suffixes = os.listdir(train_sick_dir)\n",
    "for i in range(200):\n",
    "    shutil.move(\n",
    "        os.path.join(train_sick_dir, suffixes[i]),\n",
    "        os.path.join(test_sick_dir, suffixes[i]))"
   ]
  },
  {
   "cell_type": "code",
   "execution_count": 31,
   "metadata": {},
   "outputs": [],
   "source": [
    "suffixes = os.listdir(train_not_weed_dir)\n",
    "for i in range(200):\n",
    "    shutil.move(\n",
    "        os.path.join(train_not_weed_dir, suffixes[i]),\n",
    "        os.path.join(validation_not_weed_dir, suffixes[i]))"
   ]
  },
  {
   "cell_type": "code",
   "execution_count": 32,
   "metadata": {},
   "outputs": [],
   "source": [
    "suffixes = os.listdir(train_not_weed_dir)\n",
    "for i in range(200):\n",
    "    shutil.move(\n",
    "        os.path.join(train_not_weed_dir, suffixes[i]),\n",
    "        os.path.join(test_not_weed_dir, suffixes[i]))"
   ]
  }
 ],
 "metadata": {
  "kernelspec": {
   "display_name": "Python 3",
   "language": "python",
   "name": "python3"
  },
  "language_info": {
   "codemirror_mode": {
    "name": "ipython",
    "version": 3
   },
   "file_extension": ".py",
   "mimetype": "text/x-python",
   "name": "python",
   "nbconvert_exporter": "python",
   "pygments_lexer": "ipython3",
   "version": "3.7.0"
  }
 },
 "nbformat": 4,
 "nbformat_minor": 2
}
